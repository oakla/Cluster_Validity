{
 "cells": [
  {
   "cell_type": "code",
   "execution_count": 3,
   "metadata": {},
   "outputs": [],
   "source": [
    "import numpy as np\n",
    "from sklearn.preprocessing import scale\n",
    "from sklearn.datasets import load_digits\n",
    "\n",
    "from Toolbox.multi_validity_checker import multi_silhouette\n",
    "from Toolbox.multi_Cluster import multi_k_means\n",
    "\n",
    "K_VALUES = [6,7,8,9,10,11,12]\n",
    "print_ = True\n",
    "INITS = ['k-means++', 'random']\n",
    "\n",
    "np.random.seed(42)\n"
   ]
  },
  {
   "cell_type": "code",
   "execution_count": 4,
   "metadata": {},
   "outputs": [],
   "source": [
    "X_digits, y_digits = load_digits(return_X_y = True)\n",
    "\n",
    "n_samples, n_features = X_digits.shape\n",
    "n_digits = len(np.unique(y_digits))\n",
    "\n",
    "scaled_inputs = scale(X_digits)"
   ]
  },
  {
   "cell_type": "code",
   "execution_count": 7,
   "metadata": {},
   "outputs": [
    {
     "name": "stdout",
     "output_type": "stream",
     "text": [
      "n_digits: 10, \t n_samples 1797, \t n_features 64\n",
      "______________________________________________________________________________\n",
      "init/k-values\t\t6       7       8       9       10      11      12      \n",
      "k-means++\t\t0.098\t0.127\t0.125\t0.137\t0.141\t0.155\t0.142\n",
      "random   \t\t0.112\t0.115\t0.125\t0.124\t0.147\t0.147\t0.153\n"
     ]
    }
   ],
   "source": [
    "if print_:\n",
    "    print(\"n_digits: %d, \\t n_samples %d, \\t n_features %d\"\n",
    "          % (n_digits, n_samples, n_features))\n",
    "    print(78 * '_')\n",
    "    heading_string = 'init/k-values\\t'\n",
    "    for k in K_VALUES:\n",
    "        heading_string += '%-8i' % k\n",
    "    print(heading_string)\n",
    "\n",
    "init_by_k_scores = {}\n",
    "for init in INITS:\n",
    "    multi_estimated_labels = multi_k_means(scaled_inputs, K_VALUES, init=init)\n",
    "    init_by_k_scores[init] = multi_silhouette(scaled_inputs, multi_estimated_labels)\n",
    "    if print_:\n",
    "        row_string = '%-9s\\' % init\n",
    "        for k_scores in init_by_k_scores[init].values():\n",
    "            row_string += '\\t%.3f' % k_scores\n",
    "        print(row_string)\n"
   ]
  },
  {
   "cell_type": "code",
   "execution_count": null,
   "metadata": {},
   "outputs": [],
   "source": []
  }
 ],
 "metadata": {
  "kernelspec": {
   "display_name": "Python 3",
   "language": "python",
   "name": "python3"
  },
  "language_info": {
   "codemirror_mode": {
    "name": "ipython",
    "version": 3
   },
   "file_extension": ".py",
   "mimetype": "text/x-python",
   "name": "python",
   "nbconvert_exporter": "python",
   "pygments_lexer": "ipython3",
   "version": "3.7.5"
  }
 },
 "nbformat": 4,
 "nbformat_minor": 2
}
